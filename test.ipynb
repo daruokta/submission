# %% [markdown]
# # Data Analysis Project: Air Quality and Meteorological Conditions
# - **Name:** Daru Okta Buana
# - **Email:** daruokta@gmail.com
# - **Dicoding ID:** buana_daru_okta

# %% [markdown]
# ## Defining Business Questions

# %% [markdown]
#  - **Question 1:** What are the primary factors influencing PM2.5 levels at each monitoring station?
#  - **Question 2:** How do seasonal and geographical patterns of air quality vary across different monitoring stations?
#  - **Question 3:** What is the relationship between meteorological conditions (such as temperature, wind speed, rainfall) and levels of air pollutants (such as SO2, NO2, CO, O3)?
#  - **Question 4:** Which monitoring stations consistently report the poorest air quality, and what recommendations can be made to improve it?

# %% [markdown]
# ## Import All Necessary Packages/Libraries

# %%
import pandas as pd
import numpy as np
import matplotlib.pyplot as plt
import seaborn as sns
import os
from glob import glob

# %% [markdown]
# ## Data Wrangling

# %% [markdown]
# ### Gathering Data

# %%
# Define the path to the data directory relative to the notebook
data_path = './data/PRSA_Data_20130301-20170228/'

# Get a list of all CSV files in the directory
csv_files = glob(os.path.join(data_path, '*.csv'))

# Initialize an empty list to hold dataframes
df_list = []

# Loop through the list of files and read them into dataframes
for file in csv_files:
    df = pd.read_csv(file)
    # Extract station name from the filename
    station_name = os.path.basename(file).split('_')[2]
    df['station'] = station_name
    df_list.append(df)

# Concatenate all dataframes into a single dataframe
data = pd.concat(df_list, ignore_index=True)

# Display the first few rows
display(data.head())

# Define the save path
save_path = './dashboard/merge_data.csv'

# Create the directory if it doesn't exist
os.makedirs(os.path.dirname(save_path), exist_ok=True)

# **Important:** Reset index to include 'datetime' as a column before saving
# Create 'datetime' column
data['datetime'] = pd.to_datetime(data[['year', 'month', 'day', 'hour']])

# Set 'datetime' as the index
data.set_index('datetime', inplace=True)

# Drop the original date and time columns
data.drop(['year', 'month', 'day', 'hour'], axis=1, inplace=True)

# Reset index to turn 'datetime' back into a column
data.reset_index(inplace=True)

# Save the DataFrame with 'datetime' as a column
data.to_csv(save_path, index=False)

# %% [markdown]
# **Insight:**
#  - Data has been successfully loaded from multiple CSV files.
#  - Each record includes air quality measurements and meteorological conditions from various stations.

# %% [markdown]
# ### Assessing Data

# %%
# Check the shape of the data
print(f"Data Shape: {data.shape}")

# Check for missing values
missing_values = data.isnull().sum()
print("Missing Values:\n", missing_values)

# Check data types
print("Data Types:\n", data.dtypes)

# %% [markdown]
# **Insight:**
#  - Understanding the size of the dataset and the presence of missing values is crucial for data cleaning.
#  - Identifying data types to help in determining the appropriate preprocessing steps.

# %% [markdown]
# ### Cleaning Data

# %% [markdown]
# #### Handle missing values using imputation

# %%
# Define numerical and categorical columns
numeric_cols = data.select_dtypes(include=[np.number]).columns.tolist()
categorical_cols = data.select_dtypes(include=['object']).columns.tolist()

# Impute numerical columns with mean
data[numeric_cols] = data[numeric_cols].fillna(data[numeric_cols].mean())

# Impute categorical columns with the most frequent value (mode)
for col in categorical_cols:
    mode = data[col].mode()[0]
    data[col] = data[col].fillna(mode)

# Verify that there are no missing values left
print("Missing Values After Imputation:\n", data.isnull().sum())

# %% [markdown]
# **Insight:**
#  - Missing values have been addressed through imputation, retaining more data for analysis.
#  - Date and time information has been consolidated into a single datetime index for easier time-based analysis.

# %% [markdown]
# #### Encoding Categorical Variables

# %%
# Handling Wind Direction ('wd') by mapping to degrees
wind_directions = {
    'N': 0, 'NNE': 22.5, 'NE': 45, 'ENE': 67.5,
    'E': 90, 'ESE': 112.5, 'SE': 135, 'SSE': 157.5,
    'S': 180, 'SSW': 202.5, 'SW': 225, 'WSW': 247.5,
    'W': 270, 'WNW': 292.5, 'NW': 315, 'NNW': 337.5
}
data['wd_degree'] = data['wd'].map(wind_directions)

# Handling 'station' by encoding as categorical codes
data['station_code'] = data['station'].astype('category').cat.codes

# Verify encoding
display(data[['wd', 'wd_degree', 'station', 'station_code']].head())

# %% [markdown]
#  **Insight:**
#  - Wind directions have been converted to numerical degrees, allowing for their inclusion in numerical analyses.
#  - Stations have been encoded into numerical codes, facilitating their use in correlation and modeling.

# %% [markdown]
# ## Exploratory Data Analysis (EDA)

# %% [markdown]
# ### Summary Statistics

# %%
# Display summary statistics
display(data.describe())

# %% [markdown]
# **Insight:**
#  - Provides an overview of the central tendency, dispersion, and shape of the dataset’s distribution.
#  - Identifies potential outliers and the range of values for each feature.

# %% [markdown]
# ### Correlation Analysis

# %%
# Select only numeric columns for correlation
numeric_data = data.select_dtypes(include=[np.number])

# Compute the correlation matrix
corr = numeric_data.corr()

# Plot the correlation matrix using Seaborn
plt.figure(figsize=(16, 16))
sns.heatmap(corr, annot=True, cmap='coolwarm', linewidths=1)
plt.title('Correlation Matrix (Seaborn)')
plt.show()

# %% [markdown]
#  **Insight:**
#  - The correlation matrix provides a visual representation of the relationships between different variables.
#  - Identifies which factors are strongly or weakly associated with PM2.5 levels.

# %% [markdown]
# ### Time Series Trends

# %%
# Plot PM2.5 over time for a specific station
station_to_plot = 'Aotizhongxin'  
pm25_station = data[data['station'] == station_to_plot]['PM2.5']

plt.figure(figsize=(14,6))
pm25_station.resample('M').mean().plot()
plt.title(f'Monthly Average PM2.5 Levels at {station_to_plot} Station')
plt.xlabel('Date')
plt.ylabel('PM2.5')
plt.show()

# %% [markdown]
#  **Insight:**
#  - Time series plots reveal trends and seasonal patterns in PM2.5 levels over the study period.
#  - Helps in identifying any long-term improvements or deteriorations in air quality.

# %% [markdown]
# ## Visualization & Explanatory Analysis

# %% [markdown]
# ### Question 1: What are the primary factors influencing PM2.5 levels at each monitoring station?

# %%
# Identify top 5 correlated features with PM2.5
top_corr = corr['PM2.5'].abs().sort_values(ascending=False).iloc[1:6].index.tolist()
print(f"Top 5 features correlated with PM2.5: {top_corr}")

# Plot scatter plots for top correlated features
for feature in top_corr:
    plt.figure(figsize=(8,6))
    sns.scatterplot(x=data[feature], y=data['PM2.5'], hue=data['station'], alpha=0.5)
    plt.title(f'PM2.5 vs {feature}')
    plt.xlabel(feature)
    plt.ylabel('PM2.5')
    plt.legend(title='Station', bbox_to_anchor=(1.05, 1), loc=2, borderaxespad=0.)
    plt.show()

# %% [markdown]
#  **Insight:**
#  - The scatter plots highlight the relationships between PM2.5 and the top correlated factors.
#  - Visual differentiation by station can reveal station-specific patterns.

# %% [markdown]
# ### Question 2: How do seasonal and geographical patterns of air quality vary across different monitoring stations?

# %%
# Extract month and season from datetime index
data['month'] = data['datetime'].dt.month
data['season'] = data['month'].apply(lambda x: 
                                    'Winter' if x in [12, 1, 2] else 
                                    'Spring' if x in [3,4,5] else 
                                    'Summer' if x in [6,7,8] else 
                                    'Autumn')

# Plot PM2.5 levels by season for each station
plt.figure(figsize=(14,8))
sns.boxplot(x='season', y='PM2.5', hue='station', data=data)
plt.title('PM2.5 Levels by Season and Station')
plt.legend(bbox_to_anchor=(1.05, 1), loc=2, borderaxespad=0.)
plt.show()

# %% [markdown]
#  **Insight:**
#  - Box plots reveal the distribution of PM2.5 levels across different seasons and stations.
#  - Helps in identifying seasonal trends and station-specific variations in air quality.

# %% [markdown]
# ### Question 3: What is the relationship between meteorological conditions (such as temperature, wind speed, rainfall) and levels of air pollutants (such as SO2, NO2, CO, O3)?

# %%
# Pairplot to visualize relationships
sns.pairplot(data[['PM2.5', 'TEMP', 'WSPM', 'RAIN', 'SO2', 'NO2', 'CO', 'O3']], diag_kind='kde')
plt.show()

# %% [markdown]
#  **Insight:**
#  - Pairplots allow for the examination of pairwise relationships between variables.

# %% [markdown]
# ### Question 4: Which monitoring stations consistently report the poorest air quality, and what recommendations can be made to improve it?

# %%
# Calculate average PM2.5 per station
avg_pm25 = data.groupby('station')['PM2.5'].mean().reset_index()

plt.figure(figsize=(12, 6))
sns.barplot(x='station', y='PM2.5', data=avg_pm25, palette='viridis')  
plt.title('Average PM2.5 Levels by Station')
plt.xlabel('Station')
plt.ylabel('Average PM2.5')
plt.xticks(rotation=45)
plt.show()

# %% [markdown]
#  **Insight:**
#  - Bar charts identify which stations have the highest average PM2.5 levels.
#  - Stations with consistently high PM2.5 levels may require targeted pollution control measures.

# %% [markdown]
# ## Conclusion

# %%
# Display the conclusions
print("""
- **Conclusion for Question 1:** Identified key factors such as PM10, NO2, and CO levels that significantly influence PM2.5 concentrations across monitoring stations.
- **Conclusion for Question 2:** Observed distinct seasonal patterns with higher PM2.5 levels in winter and significant geographical variations indicating certain stations are more affected.
- **Conclusion for Question 3:** Established relationships showing that increased wind speed correlates with lower PM2.5 levels, while higher temperatures are associated with increased PM2.5 concentrations, suggesting meteorological conditions play a critical role in air quality.
- **Conclusion for Question 4:** Determined that stations like *Wanshouxigong* consistently report the highest PM2.5 levels, recommending targeted pollution control measures such as traffic regulation and industrial emissions reduction in those areas.
""")
